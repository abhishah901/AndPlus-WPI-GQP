{
 "cells": [
  {
   "cell_type": "code",
   "execution_count": 12,
   "metadata": {},
   "outputs": [],
   "source": [
    "import numpy as np\n",
    "import matplotlib.pyplot as plt\n",
    "import pandas as pd\n",
    "import seaborn as sns\n",
    "from sklearn.ensemble import RandomForestClassifier\n",
    "from sklearn.model_selection import cross_val_score\n",
    "from sklearn.metrics import accuracy_score\n",
    "from sklearn.ensemble import RandomForestClassifier\n",
    "from sklearn import ensemble\n"
   ]
  },
  {
   "cell_type": "code",
   "execution_count": 3,
   "metadata": {},
   "outputs": [],
   "source": [
    "data = pd.read_csv('df_encoded.csv')"
   ]
  },
  {
   "cell_type": "code",
   "execution_count": 4,
   "metadata": {},
   "outputs": [],
   "source": [
    "N = data.size"
   ]
  },
  {
   "cell_type": "code",
   "execution_count": 5,
   "metadata": {},
   "outputs": [
    {
     "name": "stdout",
     "output_type": "stream",
     "text": [
      "   Unnamed: 0     ID ClientId  Group  Score  HasUserStory  UseCases  \\\n",
      "0           0  25926    OYBBZ    OYI      3          True         1   \n",
      "1           1  25922    OYBBZ    OYI      3          True         1   \n",
      "2           2  23570      ZQL    ZQL      3         False         0   \n",
      "3           3  34287    OYBBZ    OYF      2         False         0   \n",
      "4           4  30019    CERQV  CERQV      2          True         1   \n",
      "\n",
      "   ContentLength  TimeSpent  TimeToStart          ...           \\\n",
      "0           1322       6.25       119.55          ...            \n",
      "1           1103       7.25       958.03          ...            \n",
      "2             52       2.00       141.88          ...            \n",
      "3            497       6.50       620.95          ...            \n",
      "4            702       6.25      3813.15          ...            \n",
      "\n",
      "   ApplicationType_HARDWARE  ApplicationType_IOT  ApplicationType_MOBILE  \\\n",
      "0                         0                    0                       0   \n",
      "1                         0                    0                       0   \n",
      "2                         0                    0                       0   \n",
      "3                         0                    0                       0   \n",
      "4                         0                    0                       0   \n",
      "\n",
      "   ApplicationType_UNKNOWN  ApplicationType_WEB  TaskDomain_EXTERNAL  \\\n",
      "0                        0                    1                    1   \n",
      "1                        0                    1                    1   \n",
      "2                        0                    1                    1   \n",
      "3                        0                    1                    1   \n",
      "4                        0                    1                    1   \n",
      "\n",
      "   TaskDomain_INTERNAL  TaskDomain_UNKNOWN  HasUserStory_binary  \\\n",
      "0                    0                   0                    1   \n",
      "1                    0                   0                    1   \n",
      "2                    0                   0                    0   \n",
      "3                    0                   0                    0   \n",
      "4                    0                   0                    1   \n",
      "\n",
      "   InNormalRange_binary  \n",
      "0                     1  \n",
      "1                     1  \n",
      "2                     0  \n",
      "3                     1  \n",
      "4                     1  \n",
      "\n",
      "[5 rows x 60 columns]\n"
     ]
    }
   ],
   "source": [
    "print(data.head())"
   ]
  },
  {
   "cell_type": "code",
   "execution_count": 6,
   "metadata": {},
   "outputs": [
    {
     "name": "stdout",
     "output_type": "stream",
     "text": [
      "       Unnamed: 0            ID        Score     UseCases  ContentLength  \\\n",
      "count  7112.00000   7112.000000  7112.000000  7112.000000    7112.000000   \n",
      "mean   3555.50000  23260.624297     3.316789     0.507733     623.679556   \n",
      "std    2053.20189   6326.461814     1.858717     1.155811     885.788459   \n",
      "min       0.00000  10000.000000     1.000000     0.000000       0.000000   \n",
      "25%    1777.75000  18663.250000     3.000000     0.000000     146.000000   \n",
      "50%    3555.50000  23111.500000     3.000000     0.000000     331.000000   \n",
      "75%    5333.25000  28548.250000     3.000000     1.000000     752.000000   \n",
      "max    7111.00000  34742.000000    40.000000    17.000000   13921.000000   \n",
      "\n",
      "         TimeSpent   TimeToStart     TeamSize  Industry_Business Services  \\\n",
      "count  7112.000000   7112.000000  7112.000000                 7112.000000   \n",
      "mean      8.996219   1010.744176     2.799494                    0.023763   \n",
      "std      17.050132   1994.167641     1.442864                    0.152320   \n",
      "min       0.020000      0.000000     1.000000                    0.000000   \n",
      "25%       1.250000    112.500000     2.000000                    0.000000   \n",
      "50%       3.750000    357.515000     2.000000                    0.000000   \n",
      "75%       9.250000   1013.172500     4.000000                    0.000000   \n",
      "max     459.250000  30594.920000     5.000000                    1.000000   \n",
      "\n",
      "       Industry_Consumer Services          ...           \\\n",
      "count                 7112.000000          ...            \n",
      "mean                     0.008436          ...            \n",
      "std                      0.091468          ...            \n",
      "min                      0.000000          ...            \n",
      "25%                      0.000000          ...            \n",
      "50%                      0.000000          ...            \n",
      "75%                      0.000000          ...            \n",
      "max                      1.000000          ...            \n",
      "\n",
      "       ApplicationType_HARDWARE  ApplicationType_IOT  ApplicationType_MOBILE  \\\n",
      "count               7112.000000          7112.000000             7112.000000   \n",
      "mean                   0.007593             0.061164                0.081693   \n",
      "std                    0.086811             0.239648                0.273916   \n",
      "min                    0.000000             0.000000                0.000000   \n",
      "25%                    0.000000             0.000000                0.000000   \n",
      "50%                    0.000000             0.000000                0.000000   \n",
      "75%                    0.000000             0.000000                0.000000   \n",
      "max                    1.000000             1.000000                1.000000   \n",
      "\n",
      "       ApplicationType_UNKNOWN  ApplicationType_WEB  TaskDomain_EXTERNAL  \\\n",
      "count              7112.000000          7112.000000          7112.000000   \n",
      "mean                  0.010405             0.778825             0.971738   \n",
      "std                   0.101480             0.415068             0.165732   \n",
      "min                   0.000000             0.000000             0.000000   \n",
      "25%                   0.000000             1.000000             1.000000   \n",
      "50%                   0.000000             1.000000             1.000000   \n",
      "75%                   0.000000             1.000000             1.000000   \n",
      "max                   1.000000             1.000000             1.000000   \n",
      "\n",
      "       TaskDomain_INTERNAL  TaskDomain_UNKNOWN  HasUserStory_binary  \\\n",
      "count          7112.000000         7112.000000          7112.000000   \n",
      "mean              0.017857            0.010405             0.265607   \n",
      "std               0.132441            0.101480             0.441687   \n",
      "min               0.000000            0.000000             0.000000   \n",
      "25%               0.000000            0.000000             0.000000   \n",
      "50%               0.000000            0.000000             0.000000   \n",
      "75%               0.000000            0.000000             1.000000   \n",
      "max               1.000000            1.000000             1.000000   \n",
      "\n",
      "       InNormalRange_binary  \n",
      "count           7112.000000  \n",
      "mean               0.401715  \n",
      "std                0.490279  \n",
      "min                0.000000  \n",
      "25%                0.000000  \n",
      "50%                0.000000  \n",
      "75%                1.000000  \n",
      "max                1.000000  \n",
      "\n",
      "[8 rows x 56 columns]\n"
     ]
    }
   ],
   "source": [
    "print(data.describe())"
   ]
  },
  {
   "cell_type": "code",
   "execution_count": 38,
   "metadata": {},
   "outputs": [],
   "source": [
    "# correlation\n",
    "# corr = data.corr()\n",
    "# sns.heatmap(corr, annot=True)    \n",
    "# plt.show()"
   ]
  },
  {
   "cell_type": "code",
   "execution_count": 6,
   "metadata": {},
   "outputs": [
    {
     "name": "stdout",
     "output_type": "stream",
     "text": [
      "['Unnamed: 0' 'ID' 'ClientId' 'Group' 'Score' 'HasUserStory' 'UseCases'\n",
      " 'ContentLength' 'TimeSpent' 'TimeToStart' 'InNormalRange' 'TeamSize'\n",
      " 'Industry_Business Services' 'Industry_Consumer Services'\n",
      " 'Industry_Education' 'Industry_Financial Services' 'Industry_Government'\n",
      " 'Industry_Health, Pharmaceuticals, and Biotech' 'Industry_Manufacturing'\n",
      " 'Industry_Media and Entertainment' 'Industry_Non-profit'\n",
      " 'Industry_Retail' 'Industry_Software and Internet'\n",
      " 'Industry_Travel Recreation and Leisure' 'Industry_Unknown'\n",
      " 'RequestMonth_April' 'RequestMonth_August' 'RequestMonth_December'\n",
      " 'RequestMonth_February' 'RequestMonth_January' 'RequestMonth_July'\n",
      " 'RequestMonth_June' 'RequestMonth_March' 'RequestMonth_May'\n",
      " 'RequestMonth_November' 'RequestMonth_October' 'RequestMonth_September'\n",
      " 'CompleteMonth_April' 'CompleteMonth_August' 'CompleteMonth_December'\n",
      " 'CompleteMonth_February' 'CompleteMonth_January' 'CompleteMonth_July'\n",
      " 'CompleteMonth_June' 'CompleteMonth_March' 'CompleteMonth_May'\n",
      " 'CompleteMonth_November' 'CompleteMonth_October'\n",
      " 'CompleteMonth_September' 'ApplicationType_DESKTOP'\n",
      " 'ApplicationType_HARDWARE' 'ApplicationType_IOT' 'ApplicationType_MOBILE'\n",
      " 'ApplicationType_UNKNOWN' 'ApplicationType_WEB' 'TaskDomain_EXTERNAL'\n",
      " 'TaskDomain_INTERNAL' 'TaskDomain_UNKNOWN' 'HasUserStory_binary'\n",
      " 'InNormalRange_binary']\n"
     ]
    }
   ],
   "source": [
    "print(data.columns.values)"
   ]
  },
  {
   "cell_type": "code",
   "execution_count": 6,
   "metadata": {},
   "outputs": [],
   "source": [
    "y = data['InNormalRange_binary']\n",
    "X = data.drop(['ID', 'ClientId', 'Group','InNormalRange','InNormalRange_binary'], axis = 1)"
   ]
  },
  {
   "cell_type": "code",
   "execution_count": 7,
   "metadata": {},
   "outputs": [],
   "source": [
    "from sklearn.model_selection import train_test_split\n",
    "X_train, X_test, y_train, y_test = train_test_split(X, y, test_size=0.33, random_state=42)"
   ]
  },
  {
   "cell_type": "code",
   "execution_count": 45,
   "metadata": {},
   "outputs": [],
   "source": [
    "\n",
    "from sklearn.ensemble import RandomForestClassifier\n",
    "# Random forest accuracy\n",
    "def RFavg(ne, md):\n",
    "    clf = RandomForestClassifier(n_estimators = ne, max_depth = md, random_state = 0)\n",
    "    print(\"Inside RF:\", ne)\n",
    "    scores = cross_val_score(clf, X_train, y_train, cv = 10, scoring = 'accuracy')\n",
    "    scores_avg = sum(scores)/len(scores)\n",
    "    return scores_avg\n",
    "    # print(data.ix[:,-3].head())\n",
    "    # print(X.columns.values)\n",
    "#     clf.fit(X, y)\n",
    "    # imp = list(zip(X.columns.values, clf.feature_importances_))\n",
    "#     imp = pd.DataFrame(clf.feature_importances_,index = X.columns.values)\n",
    "#     print(imp)\n",
    "#     imp.plot(kind='barh')\n",
    "    # plt.show()\n",
    "    # features = X.column.values\n",
    "    # importances = clf.feature_importances_\n",
    "    # indices = np.argsort()\n",
    "    # f = pd.DataFrame()\n",
    "    # print(clf.best_estimator_.features_importances_)\n",
    "    # print(clf.predict)\n",
    "    # print(clf.predict([[0, 0, 0, 0]]))\n",
    "    # print(y.head())\n",
    "    # print(X.head())\n",
    "    # print(len(y))\n",
    "    # print(data.columns.values)\n",
    "    # print(X.columns.values)\n"
   ]
  },
  {
   "cell_type": "code",
   "execution_count": 65,
   "metadata": {},
   "outputs": [
    {
     "name": "stdout",
     "output_type": "stream",
     "text": [
      "Inside RF: 5\n",
      "Inside RF: 10\n",
      "Inside RF: 15\n",
      "Inside RF: 20\n",
      "Inside RF: 25\n",
      "Inside RF: 30\n",
      "Inside RF: 35\n",
      "Inside RF: 40\n",
      "Inside RF: 45\n",
      "Inside RF: 50\n",
      "Inside RF: 55\n",
      "Inside RF: 60\n",
      "Inside RF: 65\n",
      "Inside RF: 70\n",
      "Inside RF: 75\n",
      "Inside RF: 80\n",
      "Inside RF: 85\n",
      "Inside RF: 90\n",
      "Inside RF: 95\n",
      "[0.7038086562326599, 0.7846168827786804, 0.7891280833438501, 0.798686953418229, 0.7877396095627478, 0.7978418791005805, 0.7940503385521174, 0.7918001839161202, 0.7927928240439333, 0.7944772212662501, 0.8012235385479329, 0.8002372285356444, 0.8002374255170874, 0.7977083484964529, 0.7958805270822774, 0.7977037973348077, 0.7968646613955768, 0.7963004898494461, 0.7998152848251507]\n"
     ]
    }
   ],
   "source": [
    "holdavg = []\n",
    "for i in range (5,100,5):\n",
    "    holdavg.append(RFavg(i,i))\n",
    "print(holdavg)"
   ]
  },
  {
   "cell_type": "code",
   "execution_count": 63,
   "metadata": {},
   "outputs": [],
   "source": [
    "# Random forest precision\n",
    "def RFpre(ne, md):\n",
    "    clf = RandomForestClassifier(n_estimators = ne, max_depth = md, random_state = 0)\n",
    "    print(\"Inside RF:\", ne)\n",
    "    scores = cross_val_score(clf, X, y, cv = 10, scoring = 'precision')\n",
    "    scores_avg = sum(scores)/len(scores)\n",
    "    return scores_avg\n"
   ]
  },
  {
   "cell_type": "code",
   "execution_count": 66,
   "metadata": {},
   "outputs": [
    {
     "name": "stdout",
     "output_type": "stream",
     "text": [
      "Inside RF: 5\n",
      "Inside RF: 10\n",
      "Inside RF: 15\n",
      "Inside RF: 20\n",
      "Inside RF: 25\n",
      "Inside RF: 30\n",
      "Inside RF: 35\n",
      "Inside RF: 40\n",
      "Inside RF: 45\n",
      "Inside RF: 50\n",
      "Inside RF: 55\n",
      "Inside RF: 60\n",
      "Inside RF: 65\n",
      "Inside RF: 70\n",
      "Inside RF: 75\n",
      "Inside RF: 80\n",
      "Inside RF: 85\n",
      "Inside RF: 90\n",
      "Inside RF: 95\n",
      "[0.6768933025638664, 0.7572349886750472, 0.7727589894058428, 0.7819082058394271, 0.7737893608613132, 0.7960581982488565, 0.7815690404774371, 0.785778312194018, 0.7793728286018211, 0.7900856352382422, 0.7920307089540308, 0.796853455879662, 0.7908675750288161, 0.7914262904624433, 0.7871486184780813, 0.7925795820597317, 0.7866606283090645, 0.7884692694768917, 0.7903570404943348]\n"
     ]
    }
   ],
   "source": [
    "holdpre = []\n",
    "for i in range (5,100,5):\n",
    "    holdpre.append(RFpre(i,i))\n",
    "print(holdpre)"
   ]
  },
  {
   "cell_type": "code",
   "execution_count": 67,
   "metadata": {},
   "outputs": [
    {
     "name": "stdout",
     "output_type": "stream",
     "text": [
      "Inside RF: 5\n",
      "Inside RF: 10\n",
      "Inside RF: 15\n",
      "Inside RF: 20\n",
      "Inside RF: 25\n",
      "Inside RF: 30\n",
      "Inside RF: 35\n",
      "Inside RF: 40\n",
      "Inside RF: 45\n",
      "Inside RF: 50\n",
      "Inside RF: 55\n",
      "Inside RF: 60\n",
      "Inside RF: 65\n",
      "Inside RF: 70\n",
      "Inside RF: 75\n",
      "Inside RF: 80\n",
      "Inside RF: 85\n",
      "Inside RF: 90\n",
      "Inside RF: 95\n",
      "[0.7572407201151885, 0.785469078476294, 0.807130531812058, 0.798686953418229, 0.8009454157744076, 0.8054380155043315, 0.8048787885262871, 0.8010803213535229, 0.7988254163486584, 0.8086639922818886, 0.8095076766005409, 0.8069762235608057, 0.8054318723542442, 0.8045901656402489, 0.7999523672161448, 0.7971386325347906, 0.796436187249447, 0.7974197311748619, 0.7984044592147139]\n"
     ]
    }
   ],
   "source": [
    "# constant max depth \n",
    "holdavgmd20 = []\n",
    "for i in range (5,100,5):\n",
    "    holdavgmd20.append(RFavg(i,20))\n",
    "print(holdavgmd20)"
   ]
  },
  {
   "cell_type": "code",
   "execution_count": 68,
   "metadata": {},
   "outputs": [
    {
     "name": "stdout",
     "output_type": "stream",
     "text": [
      "Inside RF: 20\n",
      "Inside RF: 20\n",
      "Inside RF: 20\n",
      "Inside RF: 20\n",
      "Inside RF: 20\n",
      "Inside RF: 20\n",
      "Inside RF: 20\n",
      "Inside RF: 20\n",
      "Inside RF: 20\n",
      "Inside RF: 20\n",
      "Inside RF: 20\n",
      "Inside RF: 20\n",
      "Inside RF: 20\n",
      "Inside RF: 20\n",
      "Inside RF: 20\n",
      "Inside RF: 20\n",
      "Inside RF: 20\n",
      "Inside RF: 20\n",
      "Inside RF: 20\n",
      "[0.7675999636307708, 0.7892612116384206, 0.7791512297762936, 0.798686953418229, 0.786885048418484, 0.7988236401770028, 0.7905266449119026, 0.7872933442084896, 0.7875754299815549, 0.7875754299815549, 0.7875754299815549, 0.7875754299815549, 0.7875754299815549, 0.7875754299815549, 0.7875754299815549, 0.7875754299815549, 0.7875754299815549, 0.7875754299815549, 0.7875754299815549]\n"
     ]
    }
   ],
   "source": [
    "# constant n_estimators \n",
    "holdavgne20 = []\n",
    "for i in range (5,100,5):\n",
    "    holdavgne20.append(RFavg(20,i))\n",
    "print(holdavgne20)"
   ]
  },
  {
   "cell_type": "code",
   "execution_count": 70,
   "metadata": {},
   "outputs": [
    {
     "data": {
      "text/plain": [
       "<matplotlib.legend.Legend at 0x1f4ee8fc9b0>"
      ]
     },
     "execution_count": 70,
     "metadata": {},
     "output_type": "execute_result"
    },
    {
     "data": {
      "image/png": "[encoded data removed]",
      "text/plain": [
       "<Figure size 432x288 with 1 Axes>"
      ]
     },
     "metadata": {
      "needs_background": "light"
     },
     "output_type": "display_data"
    }
   ],
   "source": [
    "md_ne_for_avg = [i for i in range(5,100,5)]\n",
    "# print((md_ne_for_avg))\n",
    "plt.plot(holdavg,md_ne_for_avg,'-o',label = 'Accuracy')\n",
    "plt.plot(holdpre,md_ne_for_avg,'-o',label = 'Precision')\n",
    "plt.plot(holdavgmd20,md_ne_for_avg,'-o',label = 'Constant max_depth')\n",
    "plt.plot(holdavgne20,md_ne_for_avg,'-o',label = 'Constant n_estimators')\n",
    "plt.xlabel('Accuracy')\n",
    "plt.ylabel('n_estimators and max_depth')\n",
    "plt.title('Random Forest Accuracy')\n",
    "plt.legend()"
   ]
  },
  {
   "cell_type": "code",
   "execution_count": 81,
   "metadata": {},
   "outputs": [
    {
     "name": "stdout",
     "output_type": "stream",
     "text": [
      "[0.59831461 0.59831461 0.59691011 0.59691011 0.59831461 0.59915612\n",
      " 0.59634318 0.59859155 0.59859155 0.59859155]\n",
      "0.5980037989596265\n"
     ]
    },
    {
     "name": "stderr",
     "output_type": "stream",
     "text": [
      "[Parallel(n_jobs=1)]: Done  10 out of  10 | elapsed:  2.4min finished\n"
     ]
    }
   ],
   "source": [
    "from sklearn.svm import SVC\n",
    "def svc():\n",
    "    clf = SVC(gamma = 'auto')\n",
    "    scores = cross_val_score(clf, X, y, cv = 10, scoring = 'accuracy', verbose = True)\n",
    "    scores_avga = sum(scores)/len(scores)\n",
    "    print(scores)\n",
    "#     scores = cross_val_score(clf, X, y, cv = 10, scoring = 'precision')\n",
    "#     scores_avgp = sum(scores)/len(scores)\n",
    "    return scores_avga\n",
    "print(svc())"
   ]
  },
  {
   "cell_type": "code",
   "execution_count": 82,
   "metadata": {
    "scrolled": true
   },
   "outputs": [
    {
     "name": "stderr",
     "output_type": "stream",
     "text": [
      "D:\\Anaconda\\ana\\lib\\site-packages\\sklearn\\discriminant_analysis.py:388: UserWarning: Variables are collinear.\n",
      "  warnings.warn(\"Variables are collinear.\")\n",
      "D:\\Anaconda\\ana\\lib\\site-packages\\sklearn\\discriminant_analysis.py:388: UserWarning: Variables are collinear.\n",
      "  warnings.warn(\"Variables are collinear.\")\n",
      "D:\\Anaconda\\ana\\lib\\site-packages\\sklearn\\discriminant_analysis.py:388: UserWarning: Variables are collinear.\n",
      "  warnings.warn(\"Variables are collinear.\")\n",
      "D:\\Anaconda\\ana\\lib\\site-packages\\sklearn\\discriminant_analysis.py:388: UserWarning: Variables are collinear.\n",
      "  warnings.warn(\"Variables are collinear.\")\n",
      "D:\\Anaconda\\ana\\lib\\site-packages\\sklearn\\discriminant_analysis.py:388: UserWarning: Variables are collinear.\n",
      "  warnings.warn(\"Variables are collinear.\")\n",
      "D:\\Anaconda\\ana\\lib\\site-packages\\sklearn\\discriminant_analysis.py:388: UserWarning: Variables are collinear.\n",
      "  warnings.warn(\"Variables are collinear.\")\n",
      "D:\\Anaconda\\ana\\lib\\site-packages\\sklearn\\discriminant_analysis.py:388: UserWarning: Variables are collinear.\n",
      "  warnings.warn(\"Variables are collinear.\")\n",
      "D:\\Anaconda\\ana\\lib\\site-packages\\sklearn\\discriminant_analysis.py:388: UserWarning: Variables are collinear.\n",
      "  warnings.warn(\"Variables are collinear.\")\n"
     ]
    },
    {
     "name": "stdout",
     "output_type": "stream",
     "text": [
      "[0.59550562 0.5744382  0.56741573 0.57303371 0.63061798 0.72151899\n",
      " 0.64275668 0.62112676 0.65492958 0.61830986]\n",
      "0.6199653101211291\n"
     ]
    },
    {
     "name": "stderr",
     "output_type": "stream",
     "text": [
      "D:\\Anaconda\\ana\\lib\\site-packages\\sklearn\\discriminant_analysis.py:388: UserWarning: Variables are collinear.\n",
      "  warnings.warn(\"Variables are collinear.\")\n",
      "D:\\Anaconda\\ana\\lib\\site-packages\\sklearn\\discriminant_analysis.py:388: UserWarning: Variables are collinear.\n",
      "  warnings.warn(\"Variables are collinear.\")\n",
      "[Parallel(n_jobs=1)]: Done  10 out of  10 | elapsed:    1.2s finished\n"
     ]
    }
   ],
   "source": [
    "from sklearn.discriminant_analysis import LinearDiscriminantAnalysis\n",
    "def lda():\n",
    "    clf = LinearDiscriminantAnalysis()\n",
    "    scores = cross_val_score(clf, X, y, cv = 10, scoring = 'accuracy', verbose = True)\n",
    "    scores_avga = sum(scores)/len(scores)\n",
    "    print(scores)\n",
    "    return scores_avga\n",
    "print(lda())"
   ]
  },
  {
   "cell_type": "code",
   "execution_count": 38,
   "metadata": {},
   "outputs": [],
   "source": [
    "from sklearn import ensemble\n",
    "# Boosting with learning rate 0.1\n",
    "def Bag01(ne):\n",
    "    clf = ensemble.GradientBoostingClassifier(n_estimators = ne, max_depth = ne, max_leaf_nodes = ne, random_state = 0, learning_rate=0.1)\n",
    "    print(\"Inside RF:\", ne)\n",
    "    # cross validate on train\n",
    "    scores = cross_val_score(clf, X_train, y_train, cv = 10, scoring = 'accuracy') \n",
    "    scores_avg = sum(scores)/len(scores)\n",
    "    # prepare for test\n",
    "    clf.fit(X, y)\n",
    "    # predict on test\n",
    "    predicted = clf.predict(X_test)\n",
    "    # check accuracy for tested results\n",
    "    tester = accuracy_score(y_test, predicted)\n",
    "    return scores_avg, tester"
   ]
  },
  {
   "cell_type": "code",
   "execution_count": 40,
   "metadata": {},
   "outputs": [
    {
     "name": "stdout",
     "output_type": "stream",
     "text": [
      "Inside RF: 2\n",
      "Inside RF: 3\n",
      "Inside RF: 4\n",
      "Inside RF: 5\n",
      "Inside RF: 6\n",
      "Inside RF: 7\n",
      "Inside RF: 8\n",
      "Inside RF: 10\n",
      "Inside RF: 15\n",
      "Inside RF: 20\n",
      "Inside RF: 25\n",
      "Inside RF: 30\n",
      "Inside RF: 35\n",
      "Inside RF: 40\n",
      "Inside RF: 45\n",
      "[0.6025188965615456, 0.6025188965615456, 0.8199318357905515, 0.8356802124549721, 0.861070005750254, 0.9143701934867261, 0.9372535143369735, 0.9531961491209466, 0.9737610546442201, 0.9838384910554838, 0.9905559023693687, 0.9918155257155625, 0.9909756300088521, 0.9909760685938016, 0.9903453779080117] [0.5896889646357052, 0.5896889646357052, 0.8052833404345974, 0.8598210481465701, 0.8653600340860673, 0.9011504047720494, 0.9066893907115466, 0.9552620366425224, 0.9701746910950149, 0.9850873455475074, 0.9936088623775032, 0.9965913932680017, 0.9987217724755006, 0.9991478483170004, 1.0]\n"
     ]
    }
   ],
   "source": [
    "holdbagavg = []\n",
    "holdbagavgt = []\n",
    "# te,tr = 0.\n",
    "for i in range (2,9):\n",
    "    tr,te = Bag01(i)\n",
    "    holdbagavg.append(tr)\n",
    "    holdbagavgt.append(te)\n",
    "for i in range (10,50,5):\n",
    "    tr,te = Bag01(i)\n",
    "    holdbagavg.append(tr)\n",
    "    holdbagavgt.append(te)\n",
    "print(holdbagavg,holdbagavgt)"
   ]
  },
  {
   "cell_type": "code",
   "execution_count": 41,
   "metadata": {},
   "outputs": [],
   "source": [
    "from sklearn.metrics import accuracy_score\n",
    "# Boosting with learning rate 1.0\n",
    "def Bag10(ne):\n",
    "    clf = ensemble.GradientBoostingClassifier(n_estimators = ne, max_depth = ne, max_leaf_nodes = ne, random_state = 0, learning_rate=1.0)\n",
    "    print(\"Inside RF:\", ne)\n",
    "    # cross validate on train\n",
    "    scores = cross_val_score(clf, X_train, y_train, cv = 10, scoring = 'accuracy') \n",
    "    scores_avg = sum(scores)/len(scores)\n",
    "    # prepare for test\n",
    "    clf.fit(X, y)\n",
    "    # predict on test\n",
    "    predicted = clf.predict(X_test)\n",
    "    # check accuracy for tested results\n",
    "    tester = accuracy_score(y_test, predicted)\n",
    "    return scores_avg, tester"
   ]
  },
  {
   "cell_type": "code",
   "execution_count": 42,
   "metadata": {},
   "outputs": [
    {
     "name": "stdout",
     "output_type": "stream",
     "text": [
      "Inside RF: 2\n",
      "Inside RF: 3\n",
      "Inside RF: 4\n",
      "Inside RF: 5\n",
      "Inside RF: 6\n",
      "Inside RF: 7\n",
      "Inside RF: 8\n",
      "Inside RF: 10\n",
      "Inside RF: 15\n",
      "Inside RF: 20\n",
      "Inside RF: 25\n",
      "Inside RF: 30\n",
      "Inside RF: 35\n",
      "Inside RF: 40\n",
      "Inside RF: 45\n",
      "[0.8002059414329137, 0.8365091103676543, 0.920872668690644, 0.9414455037560933, 0.9620152724124834, 0.9750250822678483, 0.9802701436354653, 0.9859375733662326, 0.9869888725469927, 0.9899265274384274, 0.9897164470904016, 0.989926087010684, 0.9901366114720407, 0.9890875107444099, 0.9897164452476079] [0.7818491691521091, 0.8389433319130806, 0.8824030677460588, 0.9429058372390285, 0.9744354495100128, 0.9778440562420111, 0.9863655730720068, 0.9944610140605028, 0.9995739241585002, 1.0, 1.0, 1.0, 1.0, 1.0, 1.0]\n"
     ]
    }
   ],
   "source": [
    "holdbagavg10 = []\n",
    "holdbagavg10t = []\n",
    "for i in range (2,9):\n",
    "    tr, te = Bag10(i)\n",
    "    holdbagavg10.append(tr)\n",
    "    holdbagavg10t.append(te)\n",
    "for i in range (10,50,5):\n",
    "    tr, te = Bag10(i)\n",
    "    holdbagavg10.append(tr)\n",
    "    holdbagavg10t.append(te)\n",
    "print(holdbagavg10, holdbagavg10t)"
   ]
  },
  {
   "cell_type": "code",
   "execution_count": 44,
   "metadata": {},
   "outputs": [],
   "source": [
    "# Boosting with learning rate 0.1 subsample 0.5\n",
    "def Bag0105(ne):\n",
    "    clf = ensemble.GradientBoostingClassifier(n_estimators = ne, max_depth = ne, max_leaf_nodes = ne, random_state = 0, learning_rate=0.1, subsample = 0.5)\n",
    "    print(\"Inside RF:\", ne)\n",
    "    # cross validate on train\n",
    "    scores = cross_val_score(clf, X_train, y_train, cv = 10, scoring = 'accuracy') \n",
    "    scores_avg = sum(scores)/len(scores)\n",
    "    # prepare for test\n",
    "    clf.fit(X, y)\n",
    "    # predict on test\n",
    "    predicted = clf.predict(X_test)\n",
    "    # check accuracy for tested results\n",
    "    tester = accuracy_score(y_test, predicted)\n",
    "    return scores_avg, tester"
   ]
  },
  {
   "cell_type": "code",
   "execution_count": 46,
   "metadata": {},
   "outputs": [
    {
     "name": "stdout",
     "output_type": "stream",
     "text": [
      "Inside RF: 2\n",
      "Inside RF: 3\n",
      "Inside RF: 4\n",
      "Inside RF: 5\n",
      "Inside RF: 6\n",
      "Inside RF: 7\n",
      "Inside RF: 8\n",
      "Inside RF: 10\n",
      "Inside RF: 15\n",
      "Inside RF: 20\n",
      "Inside RF: 25\n",
      "Inside RF: 30\n",
      "Inside RF: 35\n",
      "Inside RF: 40\n",
      "Inside RF: 45\n",
      "[0.6025188965615456, 0.6025188965615456, 0.8155213923678994, 0.8339951395942181, 0.8612809706393543, 0.9068159749887167, 0.9322097431904528, 0.9500497333219228, 0.9710330470442432, 0.9796416495600109, 0.9867774690729426, 0.9890853141340745, 0.9897160048198643, 0.9899247694130414, 0.9907655459752386] [0.5896889646357052, 0.5896889646357052, 0.8044311887515978, 0.8530038346825735, 0.8598210481465701, 0.9135066041755433, 0.9331060928845335, 0.9369407754580316, 0.9718789944610141, 0.9893481039625053, 0.9931827865360034, 0.9944610140605028, 0.9965913932680017, 0.9982956966340009, 0.9995739241585002]\n"
     ]
    }
   ],
   "source": [
    "holdbagavg0105 = []\n",
    "holdbagavg0105t = []\n",
    "for i in range (2,9):\n",
    "    tr, te = Bag0105(i)\n",
    "    holdbagavg0105.append(tr)\n",
    "    holdbagavg0105t.append(te)\n",
    "for i in range (10,50,5):\n",
    "    tr, te = Bag0105(i)\n",
    "    holdbagavg0105.append(tr)\n",
    "    holdbagavg0105t.append(te)\n",
    "print(holdbagavg0105,holdbagavg0105t)"
   ]
  },
  {
   "cell_type": "code",
   "execution_count": 47,
   "metadata": {},
   "outputs": [],
   "source": [
    "# Boosting with learning rate 1.0 subsample 0.5\n",
    "def Bag1005(ne):\n",
    "    clf = ensemble.GradientBoostingClassifier(n_estimators = ne, max_depth = ne, max_leaf_nodes = ne, random_state = 0, learning_rate=1.0, subsample = 0.5)\n",
    "    print(\"Inside RF:\", ne)\n",
    "    # cross validate on train\n",
    "    scores = cross_val_score(clf, X_train, y_train, cv = 10, scoring = 'accuracy') \n",
    "    scores_avg = sum(scores)/len(scores)\n",
    "    # prepare for test\n",
    "    clf.fit(X, y)\n",
    "    # predict on test\n",
    "    predicted = clf.predict(X_test)\n",
    "    # check accuracy for tested results\n",
    "    tester = accuracy_score(y_test, predicted)\n",
    "    return scores_avg, tester"
   ]
  },
  {
   "cell_type": "code",
   "execution_count": 48,
   "metadata": {},
   "outputs": [
    {
     "name": "stdout",
     "output_type": "stream",
     "text": [
      "Inside RF: 2\n",
      "Inside RF: 3\n",
      "Inside RF: 4\n",
      "Inside RF: 5\n",
      "Inside RF: 6\n",
      "Inside RF: 7\n",
      "Inside RF: 8\n",
      "Inside RF: 10\n",
      "Inside RF: 15\n",
      "Inside RF: 20\n",
      "Inside RF: 25\n",
      "Inside RF: 30\n",
      "Inside RF: 35\n",
      "Inside RF: 40\n",
      "Inside RF: 45\n",
      "[0.8054593635564802, 0.843851473907107, 0.8939973144595855, 0.9353526466242927, 0.9550710666098498, 0.973129492316913, 0.9767026825993155, 0.9769167194258562, 0.9722966287117462, 0.9735540499192229, 0.9672563828299667, 0.9735584505110694, 0.9754439290518448, 0.9788008729978136, 0.9758649779745587] [0.7818491691521091, 0.8389433319130806, 0.8968896463570516, 0.9186195142735407, 0.9412015338730294, 0.9838091180230081, 0.9842351938645079, 0.9910524073285045, 0.9948870899020026, 0.9965913932680017, 0.9970174691095015, 0.9995739241585002, 0.9974435449510013, 0.9995739241585002, 0.9991478483170004]\n"
     ]
    }
   ],
   "source": [
    "holdbagavg1005 = []\n",
    "holdbagavg1005t = []\n",
    "for i in range (2,9):\n",
    "    tr, te = Bag1005(i)\n",
    "    holdbagavg1005.append(tr)\n",
    "    holdbagavg1005t.append(te)\n",
    "for i in range (10,50,5):\n",
    "    tr, te = Bag1005(i)\n",
    "    holdbagavg1005.append(tr)\n",
    "    holdbagavg1005t.append(te)\n",
    "print(holdbagavg1005,holdbagavg1005t)"
   ]
  },
  {
   "cell_type": "code",
   "execution_count": 50,
   "metadata": {},
   "outputs": [
    {
     "name": "stdout",
     "output_type": "stream",
     "text": [
      "[2, 3, 4, 5, 6, 7, 8, 10, 15, 20, 25, 30, 35, 40, 45]\n"
     ]
    },
    {
     "data": {
      "text/plain": [
       "<matplotlib.legend.Legend at 0x217ecb3df98>"
      ]
     },
     "execution_count": 50,
     "metadata": {},
     "output_type": "execute_result"
    },
    {
     "data": {
      "image/png": "[encoded data removed]",
      "text/plain": [
       "<Figure size 432x288 with 1 Axes>"
      ]
     },
     "metadata": {
      "needs_background": "light"
     },
     "output_type": "display_data"
    }
   ],
   "source": [
    "bag = [i for i in range(2,9)]+[i for i in range(10,50,5)]\n",
    "print(bag)\n",
    "# print((md_ne_for_avg))\n",
    "plt.plot(holdbagavg,bag,'-o',label = 'Learning Rate: 0.1')\n",
    "plt.plot(holdbagavg10,bag,'-o',label = 'Learning Rate: 1.0')\n",
    "plt.plot(holdbagavg0105,bag,'-o',label = 'Learning Rate: 0.1 sub_sample: 0.5')\n",
    "plt.plot(holdbagavg1005,bag,'-o',label = 'Learning Rate: 1.0 sub_sample: 0.5')\n",
    "plt.xlabel('Accuracy')\n",
    "plt.ylabel('n_estimators and max_depth')\n",
    "plt.title('Boosting with 10 fold CV on Training data set')\n",
    "plt.legend()"
   ]
  },
  {
   "cell_type": "code",
   "execution_count": 51,
   "metadata": {},
   "outputs": [
    {
     "data": {
      "text/plain": [
       "<matplotlib.legend.Legend at 0x217ecac2da0>"
      ]
     },
     "execution_count": 51,
     "metadata": {},
     "output_type": "execute_result"
    },
    {
     "data": {
      "image/png": "[encoded data removed]",
      "text/plain": [
       "<Figure size 432x288 with 1 Axes>"
      ]
     },
     "metadata": {
      "needs_background": "light"
     },
     "output_type": "display_data"
    }
   ],
   "source": [
    "plt.plot(holdbagavgt,bag,'-o',label = 'Learning Rate: 0.1')\n",
    "plt.plot(holdbagavg10t,bag,'-o',label = 'Learning Rate: 1.0')\n",
    "plt.plot(holdbagavg0105t,bag,'-o',label = 'Learning Rate: 0.1 sub_sample: 0.5')\n",
    "plt.plot(holdbagavg1005t,bag,'-o',label = 'Learning Rate: 1.0 sub_sample: 0.5')\n",
    "plt.xlabel('Accuracy')\n",
    "plt.ylabel('n_estimators and max_depth')\n",
    "plt.title('Boosting predictions on Testing data set')\n",
    "plt.legend()"
   ]
  },
  {
   "cell_type": "code",
   "execution_count": 17,
   "metadata": {},
   "outputs": [
    {
     "name": "stdout",
     "output_type": "stream",
     "text": [
      "0.9750250822678483\n",
      "0.9701746910950149\n"
     ]
    }
   ],
   "source": [
    "    clf = ensemble.GradientBoostingClassifier(n_estimators = 7, max_depth = 7, max_leaf_nodes = 7, random_state = 0, learning_rate=1.0)\n",
    "#     print(\"Inside RF:\", ne)\n",
    "    # cross validate on train\n",
    "    scores = cross_val_score(clf, X_train, y_train, cv = 10, scoring = 'accuracy') \n",
    "    scores_avg = sum(scores)/len(scores)\n",
    "    print(scores_avg)\n",
    "    # prepare for test\n",
    "    clf.fit(X_train, y_train)\n",
    "#     # predict on test\n",
    "    predicted = clf.predict(X_test)\n",
    "    # check accuracy for tested results\n",
    "    tester = accuracy_score(y_test, predicted)\n",
    "    print(tester)"
   ]
  },
  {
   "cell_type": "code",
   "execution_count": 24,
   "metadata": {},
   "outputs": [
    {
     "data": {
      "text/plain": [
       "['deploy.joblib']"
      ]
     },
     "execution_count": 24,
     "metadata": {},
     "output_type": "execute_result"
    }
   ],
   "source": [
    "# deployer\n",
    "import pickle\n",
    "from joblib import dump, load\n",
    "s = pickle.dumps(clf)\n",
    "clf2 = pickle.loads(s)\n",
    "dump(clf, 'deploy.joblib') \n",
    "# print(testdump)"
   ]
  }
 ],
 "metadata": {
  "kernelspec": {
   "display_name": "Python 3",
   "language": "python",
   "name": "python3"
  },
  "language_info": {
   "codemirror_mode": {
    "name": "ipython",
    "version": 3
   },
   "file_extension": ".py",
   "mimetype": "text/x-python",
   "name": "python",
   "nbconvert_exporter": "python",
   "pygments_lexer": "ipython3",
   "version": "3.5.6"
  }
 },
 "nbformat": 4,
 "nbformat_minor": 2
}
